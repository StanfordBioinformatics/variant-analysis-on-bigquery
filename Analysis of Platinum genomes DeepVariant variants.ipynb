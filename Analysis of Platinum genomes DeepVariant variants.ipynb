{
 "cells": [
  {
   "cell_type": "markdown",
   "id": "60a05a05",
   "metadata": {},
   "source": [
    "# Analyzing Platinum genomes DeepVariant variants on BigQuery \n"
   ]
  },
  {
   "cell_type": "markdown",
   "id": "37c0d57e",
   "metadata": {},
   "source": [
    "## 1. Connecting to Google Cloud Platform (GCP) from R studio: <br>\n",
    "### 1.1: Installing necessary packages<br>\n",
    "SQL commands can be directly run on R studio using packages such as [bigrquery](https://bigrquery.r-dbi.org/) and [DBI](https://bigrquery.r-dbi.org/). Everytime you run BigQuery interactively, you will be prompted to authorize the Google account in the browser. <br>\n",
    "In your R console, install the following packages: <br>"
   ]
  },
  {
   "cell_type": "code",
   "execution_count": 2,
   "id": "48d25ac4",
   "metadata": {
    "collapsed": true
   },
   "outputs": [
    {
     "name": "stdout",
     "output_type": "stream",
     "text": [
      "\n",
      "The downloaded binary packages are in\n",
      "\t/var/folders/q2/qzmn1q3x3hv9r0qyfzrf0yf80000gn/T//RtmpSenYBu/downloaded_packages\n",
      "\n",
      "The downloaded binary packages are in\n",
      "\t/var/folders/q2/qzmn1q3x3hv9r0qyfzrf0yf80000gn/T//RtmpSenYBu/downloaded_packages\n",
      "\n",
      "The downloaded binary packages are in\n",
      "\t/var/folders/q2/qzmn1q3x3hv9r0qyfzrf0yf80000gn/T//RtmpSenYBu/downloaded_packages\n",
      "\n",
      "The downloaded binary packages are in\n",
      "\t/var/folders/q2/qzmn1q3x3hv9r0qyfzrf0yf80000gn/T//RtmpSenYBu/downloaded_packages\n",
      "\n",
      "The downloaded binary packages are in\n",
      "\t/var/folders/q2/qzmn1q3x3hv9r0qyfzrf0yf80000gn/T//RtmpSenYBu/downloaded_packages\n"
     ]
    },
    {
     "name": "stderr",
     "output_type": "stream",
     "text": [
      "\n",
      "Attaching package: ‘dplyr’\n",
      "\n",
      "\n",
      "The following objects are masked from ‘package:stats’:\n",
      "\n",
      "    filter, lag\n",
      "\n",
      "\n",
      "The following objects are masked from ‘package:base’:\n",
      "\n",
      "    intersect, setdiff, setequal, union\n",
      "\n",
      "\n"
     ]
    }
   ],
   "source": [
    "install.packages(\"bigrquery\")\n",
    "install.packages(\"DBI\")\n",
    "install.packages(\"dplyr\")\n",
    "install.packages(\"reshape2\")\n",
    "install.packages(\"ggplot2\")\n",
    "\n",
    "library(bigrquery)\n",
    "library(DBI)\n",
    "library(dplyr)\n",
    "library(reshape2)\n",
    "library(ggplot2)"
   ]
  },
  {
   "cell_type": "markdown",
   "id": "04ff748b",
   "metadata": {},
   "source": [
    "### 1.2 : Connect to the database <br>\n",
    "Connect to the Google database account using ```dbconnect```. Replace ```BILLING_ACCOUNT``` with your billing account credentials."
   ]
  },
  {
   "cell_type": "code",
   "execution_count": 3,
   "id": "14582a2a",
   "metadata": {},
   "outputs": [],
   "source": [
    "gcp_account<-dbConnect(bigquery(),\"bigquery-public-data\", \n",
    "                       dataset=\"human_genome_variants\", \n",
    "                       billing = \"BILLING_ACCOUNT\")\n"
   ]
  },
  {
   "cell_type": "markdown",
   "id": "3997bab2",
   "metadata": {},
   "source": [
    "### 1.3 : Authenticating the Google account <br>\n",
    "Here, the ```bigrquery``` package will ask for permission to access the Google account. You have the option of choosing a pre-authorized account (from the displayed options) or to obtain a new token. The below command lists all the tables present in the dataset ```human_genome_variants```."
   ]
  },
  {
   "cell_type": "code",
   "execution_count": 7,
   "id": "0cc9e407",
   "metadata": {},
   "outputs": [
    {
     "data": {
      "text/html": [
       "<style>\n",
       ".list-inline {list-style: none; margin:0; padding: 0}\n",
       ".list-inline>li {display: inline-block}\n",
       ".list-inline>li:not(:last-child)::after {content: \"\\00b7\"; padding: 0 .5ex}\n",
       "</style>\n",
       "<ol class=list-inline><li>'1000_genomes_pedigree'</li><li>'1000_genomes_phase_3_optimized_schema_variants_20150220'</li><li>'1000_genomes_phase_3_variants_20150220'</li><li>'1000_genomes_sample_info'</li><li>'platinum_genomes_deepvariant_variants_20180823'</li><li>'simons_genome_diversity_project_sample_attributes'</li><li>'simons_genome_diversity_project_sample_metadata'</li><li>'simons_genome_diversity_project_sample_variants'</li></ol>\n"
      ],
      "text/latex": [
       "\\begin{enumerate*}\n",
       "\\item '1000\\_genomes\\_pedigree'\n",
       "\\item '1000\\_genomes\\_phase\\_3\\_optimized\\_schema\\_variants\\_20150220'\n",
       "\\item '1000\\_genomes\\_phase\\_3\\_variants\\_20150220'\n",
       "\\item '1000\\_genomes\\_sample\\_info'\n",
       "\\item 'platinum\\_genomes\\_deepvariant\\_variants\\_20180823'\n",
       "\\item 'simons\\_genome\\_diversity\\_project\\_sample\\_attributes'\n",
       "\\item 'simons\\_genome\\_diversity\\_project\\_sample\\_metadata'\n",
       "\\item 'simons\\_genome\\_diversity\\_project\\_sample\\_variants'\n",
       "\\end{enumerate*}\n"
      ],
      "text/markdown": [
       "1. '1000_genomes_pedigree'\n",
       "2. '1000_genomes_phase_3_optimized_schema_variants_20150220'\n",
       "3. '1000_genomes_phase_3_variants_20150220'\n",
       "4. '1000_genomes_sample_info'\n",
       "5. 'platinum_genomes_deepvariant_variants_20180823'\n",
       "6. 'simons_genome_diversity_project_sample_attributes'\n",
       "7. 'simons_genome_diversity_project_sample_metadata'\n",
       "8. 'simons_genome_diversity_project_sample_variants'\n",
       "\n",
       "\n"
      ],
      "text/plain": [
       "[1] \"1000_genomes_pedigree\"                                  \n",
       "[2] \"1000_genomes_phase_3_optimized_schema_variants_20150220\"\n",
       "[3] \"1000_genomes_phase_3_variants_20150220\"                 \n",
       "[4] \"1000_genomes_sample_info\"                               \n",
       "[5] \"platinum_genomes_deepvariant_variants_20180823\"         \n",
       "[6] \"simons_genome_diversity_project_sample_attributes\"      \n",
       "[7] \"simons_genome_diversity_project_sample_metadata\"        \n",
       "[8] \"simons_genome_diversity_project_sample_variants\"        "
      ]
     },
     "metadata": {},
     "output_type": "display_data"
    }
   ],
   "source": [
    "dbListTables(gcp_account)"
   ]
  },
  {
   "cell_type": "markdown",
   "id": "c025d069",
   "metadata": {},
   "source": [
    "### 1.4 : Querying a table on Cloud storage from R console<br>\n",
    "SQL queries can be inputted directly into R using the function ```dbGetQuery``` which takes in two arguments, a variable containing the Google account credentials and the SQL query to run. In the below query, as an example, we are selecting and displaying all the columns from the table ```platinum_genomes_deepvariant_variants_20180823```. In a similar manner you may input other SQL queries into R.<br>"
   ]
  },
  {
   "cell_type": "code",
   "execution_count": 8,
   "id": "639ec199",
   "metadata": {
    "scrolled": false
   },
   "outputs": [
    {
     "data": {
      "text/html": [
       "<table class=\"dataframe\">\n",
       "<caption>A tibble: 10 × 10</caption>\n",
       "<thead>\n",
       "\t<tr><th scope=col>reference_name</th><th scope=col>start_position</th><th scope=col>end_position</th><th scope=col>reference_bases</th><th scope=col>alternate_bases</th><th scope=col>names</th><th scope=col>quality</th><th scope=col>filter</th><th scope=col>call</th><th scope=col>partition_date_please_ignore</th></tr>\n",
       "\t<tr><th scope=col>&lt;chr&gt;</th><th scope=col>&lt;int&gt;</th><th scope=col>&lt;int&gt;</th><th scope=col>&lt;chr&gt;</th><th scope=col>&lt;list&gt;</th><th scope=col>&lt;list&gt;</th><th scope=col>&lt;dbl&gt;</th><th scope=col>&lt;list&gt;</th><th scope=col>&lt;list&gt;</th><th scope=col>&lt;date&gt;</th></tr>\n",
       "</thead>\n",
       "<tbody>\n",
       "\t<tr><td>chr1</td><td>200530356</td><td>200530357</td><td>T</td><td>&lt;*&gt;</td><td></td><td>0</td><td></td><td><span style=white-space:pre-wrap>NA12877, 0      , 0      , NA     , 0      , NA     , 54     , 317    , 0      , 977    , 0      </span></td><td>2018-08-23</td></tr>\n",
       "\t<tr><td>chr1</td><td>212715878</td><td>212715879</td><td>T</td><td>&lt;*&gt;</td><td></td><td>0</td><td></td><td><span style=white-space:pre-wrap>NA12877, 0      , 0      , NA     , 0      , NA     , 51     , 26     , 0      , 1196   , 0      </span></td><td>2018-08-23</td></tr>\n",
       "\t<tr><td>chr1</td><td>216320745</td><td>216320746</td><td>A</td><td>&lt;*&gt;</td><td></td><td>0</td><td></td><td><span style=white-space:pre-wrap>NA12877, 0      , 0      , NA     , 0      , NA     , 7      , 8      , 0      , 158    , 0      </span></td><td>2018-08-23</td></tr>\n",
       "\t<tr><td>chr1</td><td>199447697</td><td>199447698</td><td>A</td><td>&lt;*&gt;</td><td></td><td>0</td><td></td><td><span style=white-space:pre-wrap>NA12877, 0      , 0      , NA     , 0      , NA     , 4      , 17     , 0      , 77     , 0      </span></td><td>2018-08-23</td></tr>\n",
       "\t<tr><td>chr1</td><td>203469351</td><td>203469353</td><td>C</td><td>&lt;*&gt;</td><td></td><td>0</td><td></td><td><span style=white-space:pre-wrap>NA12877, 0      , 0      , NA     , 0      , NA     , 5      , 5      , 0      , 185    , 0      </span></td><td>2018-08-23</td></tr>\n",
       "\t<tr><td>chr1</td><td>203721894</td><td>203721895</td><td>T</td><td>&lt;*&gt;</td><td></td><td>0</td><td></td><td><span style=white-space:pre-wrap>NA12877, 0      , 0      , NA     , 0      , NA     , 46     , 41     , 0      , 1061   , 0      </span></td><td>2018-08-23</td></tr>\n",
       "\t<tr><td>chr1</td><td>204164470</td><td>204164472</td><td>T</td><td>&lt;*&gt;</td><td></td><td>0</td><td></td><td><span style=white-space:pre-wrap>NA12877, 0      , 0      , NA     , 0      , NA     , 52     , 74     , 0      , 1244   , 0      </span></td><td>2018-08-23</td></tr>\n",
       "\t<tr><td>chr1</td><td>210163895</td><td>210163896</td><td>A</td><td>&lt;*&gt;</td><td></td><td>0</td><td></td><td><span style=white-space:pre-wrap>NA12877, 0      , 0      , NA     , 0      , NA     , 119    , 119    , 0      , 2279   , 0      </span></td><td>2018-08-23</td></tr>\n",
       "\t<tr><td>chr1</td><td>201966921</td><td>201966922</td><td>G</td><td>&lt;*&gt;</td><td></td><td>0</td><td></td><td><span style=white-space:pre-wrap>NA12877, 0      , 0      , NA     , 0      , NA     , 47     , 8      , 0      , 1118   , 0      </span></td><td>2018-08-23</td></tr>\n",
       "\t<tr><td>chr1</td><td>202758719</td><td>202758722</td><td>G</td><td>&lt;*&gt;</td><td></td><td>0</td><td></td><td><span style=white-space:pre-wrap>NA12877, 0      , 0      , NA     , 0      , NA     , 52     , 17     , 0      , 1277   , 0      </span></td><td>2018-08-23</td></tr>\n",
       "</tbody>\n",
       "</table>\n"
      ],
      "text/latex": [
       "A tibble: 10 × 10\n",
       "\\begin{tabular}{llllllllll}\n",
       " reference\\_name & start\\_position & end\\_position & reference\\_bases & alternate\\_bases & names & quality & filter & call & partition\\_date\\_please\\_ignore\\\\\n",
       " <chr> & <int> & <int> & <chr> & <list> & <list> & <dbl> & <list> & <list> & <date>\\\\\n",
       "\\hline\n",
       "\t chr1 & 200530356 & 200530357 & T & <*> &  & 0 &  & NA12877, 0      , 0      , NA     , 0      , NA     , 54     , 317    , 0      , 977    , 0       & 2018-08-23\\\\\n",
       "\t chr1 & 212715878 & 212715879 & T & <*> &  & 0 &  & NA12877, 0      , 0      , NA     , 0      , NA     , 51     , 26     , 0      , 1196   , 0       & 2018-08-23\\\\\n",
       "\t chr1 & 216320745 & 216320746 & A & <*> &  & 0 &  & NA12877, 0      , 0      , NA     , 0      , NA     , 7      , 8      , 0      , 158    , 0       & 2018-08-23\\\\\n",
       "\t chr1 & 199447697 & 199447698 & A & <*> &  & 0 &  & NA12877, 0      , 0      , NA     , 0      , NA     , 4      , 17     , 0      , 77     , 0       & 2018-08-23\\\\\n",
       "\t chr1 & 203469351 & 203469353 & C & <*> &  & 0 &  & NA12877, 0      , 0      , NA     , 0      , NA     , 5      , 5      , 0      , 185    , 0       & 2018-08-23\\\\\n",
       "\t chr1 & 203721894 & 203721895 & T & <*> &  & 0 &  & NA12877, 0      , 0      , NA     , 0      , NA     , 46     , 41     , 0      , 1061   , 0       & 2018-08-23\\\\\n",
       "\t chr1 & 204164470 & 204164472 & T & <*> &  & 0 &  & NA12877, 0      , 0      , NA     , 0      , NA     , 52     , 74     , 0      , 1244   , 0       & 2018-08-23\\\\\n",
       "\t chr1 & 210163895 & 210163896 & A & <*> &  & 0 &  & NA12877, 0      , 0      , NA     , 0      , NA     , 119    , 119    , 0      , 2279   , 0       & 2018-08-23\\\\\n",
       "\t chr1 & 201966921 & 201966922 & G & <*> &  & 0 &  & NA12877, 0      , 0      , NA     , 0      , NA     , 47     , 8      , 0      , 1118   , 0       & 2018-08-23\\\\\n",
       "\t chr1 & 202758719 & 202758722 & G & <*> &  & 0 &  & NA12877, 0      , 0      , NA     , 0      , NA     , 52     , 17     , 0      , 1277   , 0       & 2018-08-23\\\\\n",
       "\\end{tabular}\n"
      ],
      "text/markdown": [
       "\n",
       "A tibble: 10 × 10\n",
       "\n",
       "| reference_name &lt;chr&gt; | start_position &lt;int&gt; | end_position &lt;int&gt; | reference_bases &lt;chr&gt; | alternate_bases &lt;list&gt; | names &lt;list&gt; | quality &lt;dbl&gt; | filter &lt;list&gt; | call &lt;list&gt; | partition_date_please_ignore &lt;date&gt; |\n",
       "|---|---|---|---|---|---|---|---|---|---|\n",
       "| chr1 | 200530356 | 200530357 | T | &lt;*&gt; | <!----> | 0 | <!----> | NA12877, 0      , 0      , NA     , 0      , NA     , 54     , 317    , 0      , 977    , 0       | 2018-08-23 |\n",
       "| chr1 | 212715878 | 212715879 | T | &lt;*&gt; | <!----> | 0 | <!----> | NA12877, 0      , 0      , NA     , 0      , NA     , 51     , 26     , 0      , 1196   , 0       | 2018-08-23 |\n",
       "| chr1 | 216320745 | 216320746 | A | &lt;*&gt; | <!----> | 0 | <!----> | NA12877, 0      , 0      , NA     , 0      , NA     , 7      , 8      , 0      , 158    , 0       | 2018-08-23 |\n",
       "| chr1 | 199447697 | 199447698 | A | &lt;*&gt; | <!----> | 0 | <!----> | NA12877, 0      , 0      , NA     , 0      , NA     , 4      , 17     , 0      , 77     , 0       | 2018-08-23 |\n",
       "| chr1 | 203469351 | 203469353 | C | &lt;*&gt; | <!----> | 0 | <!----> | NA12877, 0      , 0      , NA     , 0      , NA     , 5      , 5      , 0      , 185    , 0       | 2018-08-23 |\n",
       "| chr1 | 203721894 | 203721895 | T | &lt;*&gt; | <!----> | 0 | <!----> | NA12877, 0      , 0      , NA     , 0      , NA     , 46     , 41     , 0      , 1061   , 0       | 2018-08-23 |\n",
       "| chr1 | 204164470 | 204164472 | T | &lt;*&gt; | <!----> | 0 | <!----> | NA12877, 0      , 0      , NA     , 0      , NA     , 52     , 74     , 0      , 1244   , 0       | 2018-08-23 |\n",
       "| chr1 | 210163895 | 210163896 | A | &lt;*&gt; | <!----> | 0 | <!----> | NA12877, 0      , 0      , NA     , 0      , NA     , 119    , 119    , 0      , 2279   , 0       | 2018-08-23 |\n",
       "| chr1 | 201966921 | 201966922 | G | &lt;*&gt; | <!----> | 0 | <!----> | NA12877, 0      , 0      , NA     , 0      , NA     , 47     , 8      , 0      , 1118   , 0       | 2018-08-23 |\n",
       "| chr1 | 202758719 | 202758722 | G | &lt;*&gt; | <!----> | 0 | <!----> | NA12877, 0      , 0      , NA     , 0      , NA     , 52     , 17     , 0      , 1277   , 0       | 2018-08-23 |\n",
       "\n"
      ],
      "text/plain": [
       "   reference_name start_position end_position reference_bases alternate_bases\n",
       "1  chr1           200530356      200530357    T               <*>            \n",
       "2  chr1           212715878      212715879    T               <*>            \n",
       "3  chr1           216320745      216320746    A               <*>            \n",
       "4  chr1           199447697      199447698    A               <*>            \n",
       "5  chr1           203469351      203469353    C               <*>            \n",
       "6  chr1           203721894      203721895    T               <*>            \n",
       "7  chr1           204164470      204164472    T               <*>            \n",
       "8  chr1           210163895      210163896    A               <*>            \n",
       "9  chr1           201966921      201966922    G               <*>            \n",
       "10 chr1           202758719      202758722    G               <*>            \n",
       "   names quality filter\n",
       "1        0             \n",
       "2        0             \n",
       "3        0             \n",
       "4        0             \n",
       "5        0             \n",
       "6        0             \n",
       "7        0             \n",
       "8        0             \n",
       "9        0             \n",
       "10       0             \n",
       "   call                                                                                             \n",
       "1  NA12877, 0      , 0      , NA     , 0      , NA     , 54     , 317    , 0      , 977    , 0      \n",
       "2  NA12877, 0      , 0      , NA     , 0      , NA     , 51     , 26     , 0      , 1196   , 0      \n",
       "3  NA12877, 0      , 0      , NA     , 0      , NA     , 7      , 8      , 0      , 158    , 0      \n",
       "4  NA12877, 0      , 0      , NA     , 0      , NA     , 4      , 17     , 0      , 77     , 0      \n",
       "5  NA12877, 0      , 0      , NA     , 0      , NA     , 5      , 5      , 0      , 185    , 0      \n",
       "6  NA12877, 0      , 0      , NA     , 0      , NA     , 46     , 41     , 0      , 1061   , 0      \n",
       "7  NA12877, 0      , 0      , NA     , 0      , NA     , 52     , 74     , 0      , 1244   , 0      \n",
       "8  NA12877, 0      , 0      , NA     , 0      , NA     , 119    , 119    , 0      , 2279   , 0      \n",
       "9  NA12877, 0      , 0      , NA     , 0      , NA     , 47     , 8      , 0      , 1118   , 0      \n",
       "10 NA12877, 0      , 0      , NA     , 0      , NA     , 52     , 17     , 0      , 1277   , 0      \n",
       "   partition_date_please_ignore\n",
       "1  2018-08-23                  \n",
       "2  2018-08-23                  \n",
       "3  2018-08-23                  \n",
       "4  2018-08-23                  \n",
       "5  2018-08-23                  \n",
       "6  2018-08-23                  \n",
       "7  2018-08-23                  \n",
       "8  2018-08-23                  \n",
       "9  2018-08-23                  \n",
       "10 2018-08-23                  "
      ]
     },
     "metadata": {},
     "output_type": "display_data"
    }
   ],
   "source": [
    "dbGetQuery(gcp_account,\"SELECT * FROM platinum_genomes_deepvariant_variants_20180823 LIMIT 10\")"
   ]
  },
  {
   "cell_type": "markdown",
   "id": "186d1371",
   "metadata": {},
   "source": [
    "The SQL code may also be stored as a variable, following which it can be called in the ```dbGetQuery``` function."
   ]
  },
  {
   "cell_type": "code",
   "execution_count": 11,
   "id": "834b1110",
   "metadata": {
    "scrolled": true
   },
   "outputs": [
    {
     "data": {
      "text/html": [
       "<table class=\"dataframe\">\n",
       "<caption>A tibble: 5 × 10</caption>\n",
       "<thead>\n",
       "\t<tr><th scope=col>reference_name</th><th scope=col>start_position</th><th scope=col>end_position</th><th scope=col>reference_bases</th><th scope=col>alternate_bases</th><th scope=col>names</th><th scope=col>quality</th><th scope=col>filter</th><th scope=col>call</th><th scope=col>partition_date_please_ignore</th></tr>\n",
       "\t<tr><th scope=col>&lt;chr&gt;</th><th scope=col>&lt;int&gt;</th><th scope=col>&lt;int&gt;</th><th scope=col>&lt;chr&gt;</th><th scope=col>&lt;list&gt;</th><th scope=col>&lt;list&gt;</th><th scope=col>&lt;dbl&gt;</th><th scope=col>&lt;list&gt;</th><th scope=col>&lt;list&gt;</th><th scope=col>&lt;date&gt;</th></tr>\n",
       "</thead>\n",
       "<tbody>\n",
       "\t<tr><td>chr1</td><td>166047162</td><td>166047163</td><td>A</td><td>&lt;*&gt;</td><td></td><td>0</td><td></td><td><span style=white-space:pre-wrap>NA12877, 0      , 0      , NA     , 0      , NA     , 1      , 29     , 3      , 0      , 0      </span></td><td>2018-08-23</td></tr>\n",
       "\t<tr><td>chr1</td><td>171068927</td><td>171068928</td><td>C</td><td>&lt;*&gt;</td><td></td><td>0</td><td></td><td><span style=white-space:pre-wrap>NA12877, 0      , 0      , NA     , 0      , NA     , 66     , 11     , 0      , 1571   , 0      </span></td><td>2018-08-23</td></tr>\n",
       "\t<tr><td>chr1</td><td>161627165</td><td>161627166</td><td>T</td><td>&lt;*&gt;</td><td></td><td>0</td><td></td><td><span style=white-space:pre-wrap>NA12877, 0      , 0      , NA     , 0      , NA     , 1      , 29     , 3      , 0      , 0      </span></td><td>2018-08-23</td></tr>\n",
       "\t<tr><td>chr1</td><td>160089124</td><td>160089125</td><td>C</td><td>&lt;*&gt;</td><td></td><td>0</td><td></td><td><span style=white-space:pre-wrap>NA12877, 0      , 0      , NA     , 0      , NA     , 52     , 23     , 0      , 1223   , 0      </span></td><td>2018-08-23</td></tr>\n",
       "\t<tr><td>chr1</td><td>170077723</td><td>170077724</td><td>G</td><td>&lt;*&gt;</td><td></td><td>0</td><td></td><td><span style=white-space:pre-wrap>NA12877, 0      , 0      , NA     , 0      , NA     , 7      , 8      , 0      , 158    , 0      </span></td><td>2018-08-23</td></tr>\n",
       "</tbody>\n",
       "</table>\n"
      ],
      "text/latex": [
       "A tibble: 5 × 10\n",
       "\\begin{tabular}{llllllllll}\n",
       " reference\\_name & start\\_position & end\\_position & reference\\_bases & alternate\\_bases & names & quality & filter & call & partition\\_date\\_please\\_ignore\\\\\n",
       " <chr> & <int> & <int> & <chr> & <list> & <list> & <dbl> & <list> & <list> & <date>\\\\\n",
       "\\hline\n",
       "\t chr1 & 166047162 & 166047163 & A & <*> &  & 0 &  & NA12877, 0      , 0      , NA     , 0      , NA     , 1      , 29     , 3      , 0      , 0       & 2018-08-23\\\\\n",
       "\t chr1 & 171068927 & 171068928 & C & <*> &  & 0 &  & NA12877, 0      , 0      , NA     , 0      , NA     , 66     , 11     , 0      , 1571   , 0       & 2018-08-23\\\\\n",
       "\t chr1 & 161627165 & 161627166 & T & <*> &  & 0 &  & NA12877, 0      , 0      , NA     , 0      , NA     , 1      , 29     , 3      , 0      , 0       & 2018-08-23\\\\\n",
       "\t chr1 & 160089124 & 160089125 & C & <*> &  & 0 &  & NA12877, 0      , 0      , NA     , 0      , NA     , 52     , 23     , 0      , 1223   , 0       & 2018-08-23\\\\\n",
       "\t chr1 & 170077723 & 170077724 & G & <*> &  & 0 &  & NA12877, 0      , 0      , NA     , 0      , NA     , 7      , 8      , 0      , 158    , 0       & 2018-08-23\\\\\n",
       "\\end{tabular}\n"
      ],
      "text/markdown": [
       "\n",
       "A tibble: 5 × 10\n",
       "\n",
       "| reference_name &lt;chr&gt; | start_position &lt;int&gt; | end_position &lt;int&gt; | reference_bases &lt;chr&gt; | alternate_bases &lt;list&gt; | names &lt;list&gt; | quality &lt;dbl&gt; | filter &lt;list&gt; | call &lt;list&gt; | partition_date_please_ignore &lt;date&gt; |\n",
       "|---|---|---|---|---|---|---|---|---|---|\n",
       "| chr1 | 166047162 | 166047163 | A | &lt;*&gt; | <!----> | 0 | <!----> | NA12877, 0      , 0      , NA     , 0      , NA     , 1      , 29     , 3      , 0      , 0       | 2018-08-23 |\n",
       "| chr1 | 171068927 | 171068928 | C | &lt;*&gt; | <!----> | 0 | <!----> | NA12877, 0      , 0      , NA     , 0      , NA     , 66     , 11     , 0      , 1571   , 0       | 2018-08-23 |\n",
       "| chr1 | 161627165 | 161627166 | T | &lt;*&gt; | <!----> | 0 | <!----> | NA12877, 0      , 0      , NA     , 0      , NA     , 1      , 29     , 3      , 0      , 0       | 2018-08-23 |\n",
       "| chr1 | 160089124 | 160089125 | C | &lt;*&gt; | <!----> | 0 | <!----> | NA12877, 0      , 0      , NA     , 0      , NA     , 52     , 23     , 0      , 1223   , 0       | 2018-08-23 |\n",
       "| chr1 | 170077723 | 170077724 | G | &lt;*&gt; | <!----> | 0 | <!----> | NA12877, 0      , 0      , NA     , 0      , NA     , 7      , 8      , 0      , 158    , 0       | 2018-08-23 |\n",
       "\n"
      ],
      "text/plain": [
       "  reference_name start_position end_position reference_bases alternate_bases\n",
       "1 chr1           166047162      166047163    A               <*>            \n",
       "2 chr1           171068927      171068928    C               <*>            \n",
       "3 chr1           161627165      161627166    T               <*>            \n",
       "4 chr1           160089124      160089125    C               <*>            \n",
       "5 chr1           170077723      170077724    G               <*>            \n",
       "  names quality filter\n",
       "1       0             \n",
       "2       0             \n",
       "3       0             \n",
       "4       0             \n",
       "5       0             \n",
       "  call                                                                                             \n",
       "1 NA12877, 0      , 0      , NA     , 0      , NA     , 1      , 29     , 3      , 0      , 0      \n",
       "2 NA12877, 0      , 0      , NA     , 0      , NA     , 66     , 11     , 0      , 1571   , 0      \n",
       "3 NA12877, 0      , 0      , NA     , 0      , NA     , 1      , 29     , 3      , 0      , 0      \n",
       "4 NA12877, 0      , 0      , NA     , 0      , NA     , 52     , 23     , 0      , 1223   , 0      \n",
       "5 NA12877, 0      , 0      , NA     , 0      , NA     , 7      , 8      , 0      , 158    , 0      \n",
       "  partition_date_please_ignore\n",
       "1 2018-08-23                  \n",
       "2 2018-08-23                  \n",
       "3 2018-08-23                  \n",
       "4 2018-08-23                  \n",
       "5 2018-08-23                  "
      ]
     },
     "metadata": {},
     "output_type": "display_data"
    }
   ],
   "source": [
    "sql<-\"SELECT * FROM platinum_genomes_deepvariant_variants_20180823 LIMIT 5\"\n",
    "dbGetQuery(gcp_account,sql)"
   ]
  },
  {
   "cell_type": "markdown",
   "id": "897338e6",
   "metadata": {},
   "source": [
    "## 2. BigQuery analysis on Platinum genomes DeepVariant variant tables"
   ]
  },
  {
   "cell_type": "markdown",
   "id": "67096c82",
   "metadata": {},
   "source": [
    "### 2.1 : Number of rows in Platinum genomes table <br>\n",
    "Every row in the table is a variant call. Each row has a ```call``` field which is an array of variant calls. Here we are counting the number of rows in the table without considering the array elements. "
   ]
  },
  {
   "cell_type": "code",
   "execution_count": 4,
   "id": "2db76787",
   "metadata": {},
   "outputs": [
    {
     "data": {
      "text/html": [
       "<table class=\"dataframe\">\n",
       "<caption>A tibble: 1 × 1</caption>\n",
       "<thead>\n",
       "\t<tr><th scope=col>Number_of_rows</th></tr>\n",
       "\t<tr><th scope=col>&lt;int&gt;</th></tr>\n",
       "</thead>\n",
       "<tbody>\n",
       "\t<tr><td>105923159</td></tr>\n",
       "</tbody>\n",
       "</table>\n"
      ],
      "text/latex": [
       "A tibble: 1 × 1\n",
       "\\begin{tabular}{l}\n",
       " Number\\_of\\_rows\\\\\n",
       " <int>\\\\\n",
       "\\hline\n",
       "\t 105923159\\\\\n",
       "\\end{tabular}\n"
      ],
      "text/markdown": [
       "\n",
       "A tibble: 1 × 1\n",
       "\n",
       "| Number_of_rows &lt;int&gt; |\n",
       "|---|\n",
       "| 105923159 |\n",
       "\n"
      ],
      "text/plain": [
       "  Number_of_rows\n",
       "1 105923159     "
      ]
     },
     "metadata": {},
     "output_type": "display_data"
    }
   ],
   "source": [
    "variants_called_sql<-\"SELECT \n",
    "COUNT(1) AS Number_of_rows\n",
    "FROM `platinum_genomes_deepvariant_variants_20180823`\"\n",
    "\n",
    "variants_called<-dbGetQuery(gcp_account,variants_called_sql)\n",
    "variants_called"
   ]
  },
  {
   "cell_type": "markdown",
   "id": "99149b7b",
   "metadata": {},
   "source": [
    "### 2.2 : Number of variants called in Platinum genomes table <br>\n",
    "To count the number of variants called, we will query the elements inside the array columns. This can be done in multiple ways, two of which are shown below. "
   ]
  },
  {
   "cell_type": "markdown",
   "id": "4bc4c910",
   "metadata": {},
   "source": [
    "#### 2.2.1 : Summing the length of the ```call``` array <br>\n",
    "Here we will count the total number of variant calls across all samples by adding the length of each ```call``` array"
   ]
  },
  {
   "cell_type": "code",
   "execution_count": 6,
   "id": "522f5c85",
   "metadata": {},
   "outputs": [
    {
     "data": {
      "text/html": [
       "<table class=\"dataframe\">\n",
       "<caption>A tibble: 1 × 1</caption>\n",
       "<thead>\n",
       "\t<tr><th scope=col>number_of_calls</th></tr>\n",
       "\t<tr><th scope=col>&lt;int&gt;</th></tr>\n",
       "</thead>\n",
       "<tbody>\n",
       "\t<tr><td>182104652</td></tr>\n",
       "</tbody>\n",
       "</table>\n"
      ],
      "text/latex": [
       "A tibble: 1 × 1\n",
       "\\begin{tabular}{l}\n",
       " number\\_of\\_calls\\\\\n",
       " <int>\\\\\n",
       "\\hline\n",
       "\t 182104652\\\\\n",
       "\\end{tabular}\n"
      ],
      "text/markdown": [
       "\n",
       "A tibble: 1 × 1\n",
       "\n",
       "| number_of_calls &lt;int&gt; |\n",
       "|---|\n",
       "| 182104652 |\n",
       "\n"
      ],
      "text/plain": [
       "  number_of_calls\n",
       "1 182104652      "
      ]
     },
     "metadata": {},
     "output_type": "display_data"
    }
   ],
   "source": [
    "variants_called_sql<-\"SELECT\n",
    "SUM(ARRAY_LENGTH(call)) AS number_of_calls\n",
    "FROM`bigquery-public-data.human_genome_variants.platinum_genomes_deepvariant_variants_20180823`\"\n",
    "\n",
    "variants_called<-dbGetQuery(gcp_account,variants_called_sql)\n",
    "variants_called"
   ]
  },
  {
   "cell_type": "markdown",
   "id": "9bd10306",
   "metadata": {},
   "source": [
    "#### 2.2.2 : Unnesting the ```call``` array<br>\n",
    "The below query counts the number of variant calls across samples by using the ```UNNEST``` function on the ```call``` array. The ```UNNEST``` function lets you take elements in an array and expand each one of these individual elements. "
   ]
  },
  {
   "cell_type": "code",
   "execution_count": 7,
   "id": "6972ae8c",
   "metadata": {
    "scrolled": true
   },
   "outputs": [
    {
     "data": {
      "text/html": [
       "<table class=\"dataframe\">\n",
       "<caption>A tibble: 1 × 1</caption>\n",
       "<thead>\n",
       "\t<tr><th scope=col>number_of_calls</th></tr>\n",
       "\t<tr><th scope=col>&lt;int&gt;</th></tr>\n",
       "</thead>\n",
       "<tbody>\n",
       "\t<tr><td>182104652</td></tr>\n",
       "</tbody>\n",
       "</table>\n"
      ],
      "text/latex": [
       "A tibble: 1 × 1\n",
       "\\begin{tabular}{l}\n",
       " number\\_of\\_calls\\\\\n",
       " <int>\\\\\n",
       "\\hline\n",
       "\t 182104652\\\\\n",
       "\\end{tabular}\n"
      ],
      "text/markdown": [
       "\n",
       "A tibble: 1 × 1\n",
       "\n",
       "| number_of_calls &lt;int&gt; |\n",
       "|---|\n",
       "| 182104652 |\n",
       "\n"
      ],
      "text/plain": [
       "  number_of_calls\n",
       "1 182104652      "
      ]
     },
     "metadata": {},
     "output_type": "display_data"
    }
   ],
   "source": [
    "variants_called_sql<-\"SELECT \n",
    "COUNT(calls.Name) AS number_of_calls\n",
    "FROM `platinum_genomes_deepvariant_variants_20180823`v, UNNEST (v.call) AS calls\"\n",
    "\n",
    "variants_called<-dbGetQuery(gcp_account,variants_called_sql)\n",
    "variants_called"
   ]
  },
  {
   "cell_type": "markdown",
   "id": "57f8f819",
   "metadata": {},
   "source": [
    "As we can see, in both cases the number of calls returned are the same. For more ways to compute number of variants called [click here](https://cloud.google.com/life-sciences/docs/tutorials/analyze-variants-advanced)"
   ]
  },
  {
   "cell_type": "markdown",
   "id": "d069857f",
   "metadata": {},
   "source": [
    "### 2.3 : Number of real variants called in Platinum genomes table <br>\n",
    "The Illumina Platinum genomes dataset uses the gVCF format, which means that there are rows in the table that include non-variant segments. These non-variant segments are also called \"reference calls\". In the table, the non-variant segments are generally represented in the following ways:\n",
    "- With a zero-length ```alternate_bases``` value\n",
    "- With the text string `<NON_REF>` as an ```alternate_bases.alt``` value\n",
    "- With the text string `<*>` as an ```alternate_bases.alt``` value\n",
    "\n",
    "A variant is a segment of the genome that is different from the reference genome. A few important properties of a variant segment are ```start_position```, ```end_position```, ```reference_name```, and one or more alternate bases. These are refrred to as \"real variants\" in the below query.  "
   ]
  },
  {
   "cell_type": "code",
   "execution_count": 50,
   "id": "df563b3b",
   "metadata": {},
   "outputs": [
    {
     "data": {
      "text/html": [
       "<table class=\"dataframe\">\n",
       "<caption>A tibble: 1 × 1</caption>\n",
       "<thead>\n",
       "\t<tr><th scope=col>number_of_real_variants</th></tr>\n",
       "\t<tr><th scope=col>&lt;int&gt;</th></tr>\n",
       "</thead>\n",
       "<tbody>\n",
       "\t<tr><td>38549388</td></tr>\n",
       "</tbody>\n",
       "</table>\n"
      ],
      "text/latex": [
       "A tibble: 1 × 1\n",
       "\\begin{tabular}{l}\n",
       " number\\_of\\_real\\_variants\\\\\n",
       " <int>\\\\\n",
       "\\hline\n",
       "\t 38549388\\\\\n",
       "\\end{tabular}\n"
      ],
      "text/markdown": [
       "\n",
       "A tibble: 1 × 1\n",
       "\n",
       "| number_of_real_variants &lt;int&gt; |\n",
       "|---|\n",
       "| 38549388 |\n",
       "\n"
      ],
      "text/plain": [
       "  number_of_real_variants\n",
       "1 38549388               "
      ]
     },
     "metadata": {},
     "output_type": "display_data"
    }
   ],
   "source": [
    "real_variants_sql<-\"SELECT\n",
    "COUNT(1) AS number_of_real_variants\n",
    "FROM `bigquery-public-data.human_genome_variants.platinum_genomes_deepvariant_variants_20180823` v, v.call call\n",
    "WHERE EXISTS (SELECT 1 FROM UNNEST(v.alternate_bases) AS alt\n",
    "WHERE alt.alt NOT IN ('<NON_REF>', '<*>'))\"\n",
    "\n",
    "real_variants<-dbGetQuery(gcp_account, real_variants_sql)\n",
    "real_variants"
   ]
  },
  {
   "cell_type": "markdown",
   "id": "69d488b7",
   "metadata": {},
   "source": [
    "### 2.4 : Number of variants called for each Platinum genomes sample <br>\n",
    "The below code counts the variants called for each sample. For this we have used the information present in the ```Name``` field. The output table has two columns, *Name* and *Number_of_variants_called_per_sample*"
   ]
  },
  {
   "cell_type": "code",
   "execution_count": 8,
   "id": "f8f91e01",
   "metadata": {
    "scrolled": false
   },
   "outputs": [
    {
     "data": {
      "text/html": [
       "<table class=\"dataframe\">\n",
       "<caption>A tibble: 6 × 2</caption>\n",
       "<thead>\n",
       "\t<tr><th scope=col>Name</th><th scope=col>Number_of_variants_called_per_sample</th></tr>\n",
       "\t<tr><th scope=col>&lt;chr&gt;</th><th scope=col>&lt;int&gt;</th></tr>\n",
       "</thead>\n",
       "<tbody>\n",
       "\t<tr><td>NA12892</td><td>27347886</td></tr>\n",
       "\t<tr><td>NA12877</td><td>31592135</td></tr>\n",
       "\t<tr><td>NA12891</td><td>33487348</td></tr>\n",
       "\t<tr><td>NA12890</td><td>30636087</td></tr>\n",
       "\t<tr><td>NA12889</td><td>31028550</td></tr>\n",
       "\t<tr><td>NA12878</td><td>28012646</td></tr>\n",
       "</tbody>\n",
       "</table>\n"
      ],
      "text/latex": [
       "A tibble: 6 × 2\n",
       "\\begin{tabular}{ll}\n",
       " Name & Number\\_of\\_variants\\_called\\_per\\_sample\\\\\n",
       " <chr> & <int>\\\\\n",
       "\\hline\n",
       "\t NA12892 & 27347886\\\\\n",
       "\t NA12877 & 31592135\\\\\n",
       "\t NA12891 & 33487348\\\\\n",
       "\t NA12890 & 30636087\\\\\n",
       "\t NA12889 & 31028550\\\\\n",
       "\t NA12878 & 28012646\\\\\n",
       "\\end{tabular}\n"
      ],
      "text/markdown": [
       "\n",
       "A tibble: 6 × 2\n",
       "\n",
       "| Name &lt;chr&gt; | Number_of_variants_called_per_sample &lt;int&gt; |\n",
       "|---|---|\n",
       "| NA12892 | 27347886 |\n",
       "| NA12877 | 31592135 |\n",
       "| NA12891 | 33487348 |\n",
       "| NA12890 | 30636087 |\n",
       "| NA12889 | 31028550 |\n",
       "| NA12878 | 28012646 |\n",
       "\n"
      ],
      "text/plain": [
       "  Name    Number_of_variants_called_per_sample\n",
       "1 NA12892 27347886                            \n",
       "2 NA12877 31592135                            \n",
       "3 NA12891 33487348                            \n",
       "4 NA12890 30636087                            \n",
       "5 NA12889 31028550                            \n",
       "6 NA12878 28012646                            "
      ]
     },
     "metadata": {},
     "output_type": "display_data"
    }
   ],
   "source": [
    "#Query tables to get total number of variants called \n",
    "variant_call_sql<-\"SELECT Name, \n",
    "COUNT(Name) AS Number_of_variants_called_per_sample\n",
    "FROM `platinum_genomes_deepvariant_variants_20180823`v, UNNEST (v.call) AS call\n",
    "GROUP BY Name\"\n",
    "\n",
    "variant_call<-dbGetQuery(gcp_account, variant_call_sql)\n",
    "variant_call\n"
   ]
  },
  {
   "cell_type": "code",
   "execution_count": 9,
   "id": "0e78c15d",
   "metadata": {},
   "outputs": [
    {
     "data": {
      "image/png": "[encoded data removed]",
      "text/plain": [
       "Plot with title “Number of Variants called per sample”"
      ]
     },
     "metadata": {
      "image/png": {
       "height": 420,
       "width": 420
      }
     },
     "output_type": "display_data"
    }
   ],
   "source": [
    "#Create barplot to show total number of variants called per sample \n",
    "barplot(variant_call$Number_of_variants_called_per_sample, col = \"blue\", \n",
    "        main = \"Number of Variants called per sample\",\n",
    "        xlab = \"Sample ID\",\n",
    "        ylab = \"Number of variants called\",\n",
    "        names.arg = variant_call$Name)\n"
   ]
  },
  {
   "cell_type": "markdown",
   "id": "c9ce0501",
   "metadata": {},
   "source": [
    "### 2.5 : Number of variants, called per chromosome, per sample :<br>\n",
    "The query computes the total number of variants called per chromosome, per sample in the platinum genomes dataset. The output table has three columns, *Name*, *Chromosome_number* and *Number_of_variants_called*"
   ]
  },
  {
   "cell_type": "code",
   "execution_count": 44,
   "id": "9fec625c",
   "metadata": {},
   "outputs": [
    {
     "data": {
      "text/html": [
       "<table class=\"dataframe\">\n",
       "<caption>A tibble: 6 × 3</caption>\n",
       "<thead>\n",
       "\t<tr><th scope=col>Name</th><th scope=col>Chromosome_number</th><th scope=col>Number_of_variants_called</th></tr>\n",
       "\t<tr><th scope=col>&lt;chr&gt;</th><th scope=col>&lt;chr&gt;</th><th scope=col>&lt;int&gt;</th></tr>\n",
       "</thead>\n",
       "<tbody>\n",
       "\t<tr><td>NA12889</td><td>01</td><td>2194330</td></tr>\n",
       "\t<tr><td>NA12892</td><td>01</td><td>2180206</td></tr>\n",
       "\t<tr><td>NA12891</td><td>01</td><td>2318928</td></tr>\n",
       "\t<tr><td>NA12890</td><td>01</td><td>2465160</td></tr>\n",
       "\t<tr><td>NA12877</td><td>01</td><td>2178212</td></tr>\n",
       "\t<tr><td>NA12878</td><td>01</td><td>2234041</td></tr>\n",
       "</tbody>\n",
       "</table>\n"
      ],
      "text/latex": [
       "A tibble: 6 × 3\n",
       "\\begin{tabular}{lll}\n",
       " Name & Chromosome\\_number & Number\\_of\\_variants\\_called\\\\\n",
       " <chr> & <chr> & <int>\\\\\n",
       "\\hline\n",
       "\t NA12889 & 01 & 2194330\\\\\n",
       "\t NA12892 & 01 & 2180206\\\\\n",
       "\t NA12891 & 01 & 2318928\\\\\n",
       "\t NA12890 & 01 & 2465160\\\\\n",
       "\t NA12877 & 01 & 2178212\\\\\n",
       "\t NA12878 & 01 & 2234041\\\\\n",
       "\\end{tabular}\n"
      ],
      "text/markdown": [
       "\n",
       "A tibble: 6 × 3\n",
       "\n",
       "| Name &lt;chr&gt; | Chromosome_number &lt;chr&gt; | Number_of_variants_called &lt;int&gt; |\n",
       "|---|---|---|\n",
       "| NA12889 | 01 | 2194330 |\n",
       "| NA12892 | 01 | 2180206 |\n",
       "| NA12891 | 01 | 2318928 |\n",
       "| NA12890 | 01 | 2465160 |\n",
       "| NA12877 | 01 | 2178212 |\n",
       "| NA12878 | 01 | 2234041 |\n",
       "\n"
      ],
      "text/plain": [
       "  Name    Chromosome_number Number_of_variants_called\n",
       "1 NA12889 01                2194330                  \n",
       "2 NA12892 01                2180206                  \n",
       "3 NA12891 01                2318928                  \n",
       "4 NA12890 01                2465160                  \n",
       "5 NA12877 01                2178212                  \n",
       "6 NA12878 01                2234041                  "
      ]
     },
     "metadata": {},
     "output_type": "display_data"
    }
   ],
   "source": [
    "#Query to compute the number of variants present per chromosme, per sample  \n",
    "per_chr_sql<-\"SELECT Name,\n",
    "CASE\n",
    "    WHEN SAFE_CAST(REGEXP_REPLACE(reference_name, '^chr', '') AS INT64) < 10\n",
    "    THEN CONCAT('0', REGEXP_REPLACE(reference_name, '^chr', ''))\n",
    "    ELSE REGEXP_REPLACE(reference_name, '^chr', '')\n",
    "END AS Chromosome_number,\n",
    "COUNT(Name) AS Number_of_variants_called\n",
    "FROM `platinum_genomes_deepvariant_variants_20180823`v, UNNEST (v.call) AS call\n",
    "GROUP BY 1,2\n",
    "ORDER BY 2\"\n",
    "\n",
    "per_chr<-dbGetQuery(gcp_account, per_chr_sql)\n",
    "head(per_chr)"
   ]
  },
  {
   "cell_type": "code",
   "execution_count": 45,
   "id": "cd40f77e",
   "metadata": {},
   "outputs": [
    {
     "data": {
      "image/png": "[encoded data removed]",
      "text/plain": [
       "plot without title"
      ]
     },
     "metadata": {
      "image/png": {
       "height": 420,
       "width": 420
      }
     },
     "output_type": "display_data"
    }
   ],
   "source": [
    "#Plotting dataframe\n",
    "ggplot(per_chr, aes(x=Name,y=Number_of_variants_called))+ \n",
    "geom_bar(aes(fill=Chromosome_number),stat = 'identity', position = 'dodge')+\n",
    "labs(title=\"Number of Variants called, per chromosome, per sample\", x=\"Sample name\", y=\"Numberof variants called\")\n"
   ]
  }
 ],
 "metadata": {
  "kernelspec": {
   "display_name": "R",
   "language": "R",
   "name": "ir"
  },
  "language_info": {
   "codemirror_mode": "r",
   "file_extension": ".r",
   "mimetype": "text/x-r-source",
   "name": "R",
   "pygments_lexer": "r",
   "version": "4.1.2"
  }
 },
 "nbformat": 4,
 "nbformat_minor": 5
}
